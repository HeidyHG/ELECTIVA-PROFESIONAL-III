{
 "cells": [
  {
   "cell_type": "markdown",
   "metadata": {
    "nbgrader": {
     "grade": false,
     "grade_id": "cell-c9bfcc10c56bc604",
     "locked": true,
     "schema_version": 3,
     "solution": false,
     "task": false
    }
   },
   "source": [
    "# Laboratorio 2"
   ]
  },
  {
   "cell_type": "markdown",
   "metadata": {
    "nbgrader": {
     "grade": false,
     "grade_id": "cell-c9bfcc10c56bc605",
     "locked": true,
     "schema_version": 3,
     "solution": false,
     "task": false
    }
   },
   "source": [
    "## Desarrollo de una herramienta analítica usando paquetes especializados para análisis de datos en Python"
   ]
  },
  {
   "cell_type": "markdown",
   "metadata": {
    "nbgrader": {
     "grade": false,
     "grade_id": "cell-c9bfcc10c56bc606",
     "locked": true,
     "schema_version": 3,
     "solution": false,
     "task": false
    }
   },
   "source": [
    "Para el desarrollo de esta actividad puedes utilizar cualquier librería externa. Te recomendamos leer por completo el enunciado del laboratorio antes de comenzar, de forma que tengas claro el propósito global de la actividad y puedas desarrollar tu solución apuntando a él desde el inicio."
   ]
  },
  {
   "cell_type": "markdown",
   "metadata": {
    "nbgrader": {
     "grade": false,
     "grade_id": "cell-c9bfcc10c56bc607",
     "locked": true,
     "schema_version": 3,
     "solution": false,
     "task": false
    }
   },
   "source": [
    "Al desarrollar este laboratorio pondrás a prueba tus habilidades para:\n",
    "\n",
    "1. Identificar y abordar preguntas de negocio y de *analytics*.\n",
    "2. Leer datos desde archivos y almacenarlos utilizando métodos de librerías especializadas.\n",
    "3. Explorar, modificar, limpiar y unir objetos tablas de datos.\n",
    "4. Implementar análisis combinando métricas descriptivas, visualización, filtrado y agrupación.\n",
    "5. Implementar análisis basado en modelos estadísticos o de *machine learning*."
   ]
  },
  {
   "cell_type": "markdown",
   "metadata": {
    "nbgrader": {
     "grade": false,
     "grade_id": "cell-cfa5e4dba79247b3",
     "locked": true,
     "schema_version": 3,
     "solution": false,
     "task": false
    }
   },
   "source": [
    "##  Contexto: desigualdad y factores de éxito en pruebas Saber 11 en Colombia"
   ]
  },
  {
   "cell_type": "markdown",
   "metadata": {
    "nbgrader": {
     "grade": false,
     "grade_id": "cell-cfa5e4dba79247b4",
     "locked": true,
     "schema_version": 3,
     "solution": false,
     "task": false
    }
   },
   "source": [
    "El ICFES es el Instituto Colombiano para el Fomento de la Educación Superior y está adscrito al Ministerio de Educación a nivel nacional. Como parte de sus funciones, el ICFES administra las pruebas Saber 11, las cuales evalúan a todos los estudiantes del país al final de su educación secundaria. El examen contiene preguntas que evalúan una variedad de áreas del conocimiento (ej., matemáticas, física, inglés, etc.) y se lleva a cabo dos veces al año, ajustándose a los diferentes calendarios académicos que siguen las instituciones educativas. Al momento de inscribirse a las pruebas, los estudiantes diligencian un formulario que recoge información sociodemográfica y relacionada con la institución a la que pertenecen. El fin es obtener información con respecto al desempeño de los estudiantes en la prueba y de sus características."
   ]
  },
  {
   "cell_type": "markdown",
   "metadata": {
    "nbgrader": {
     "grade": false,
     "grade_id": "cell-cfa5e4dba79247b6",
     "locked": true,
     "schema_version": 3,
     "solution": false,
     "task": false
    }
   },
   "source": [
    "Al igual que otros países de la región, Colombia tiene grandes retos en términos de desigualdad, particularmente en el contexto de educación primaria y secundaria. Por esta razón, para el Estado colombiano es muy valioso el amplio registro de datos que el ICFES genera alrededor de las pruebas Saber 11, pues con ellos se pueden generar análisis sobre la calidad de la educación en el país y eventualmente dar lugar a recomendaciones sobre políticas públicas. En particular, la problemática a abordar en este caso de estudio es la desigualdad y factores de éxito en las pruebas Saber 11. "
   ]
  },
  {
   "cell_type": "markdown",
   "metadata": {
    "nbgrader": {
     "grade": false,
     "grade_id": "cell-cfa5e4dba79247b7",
     "locked": true,
     "schema_version": 3,
     "solution": false,
     "task": false
    }
   },
   "source": [
    "Los objetivos de este caso de estudio son:\n",
    "\n",
    "* Entender el contenido de los archivos de datos proporcionados sobre las pruebas Saber 11, generar un reporte acerca de sus características principales y seleccionar las partes de dicho contenido que podrían ser relevantes para el análisis.\n",
    "\n",
    "\n",
    "* Identificar características de las variables de interés y relaciones entre ellas, por ejemplo, a través de agrupación, visualizaciones y estadísticas descriptivas.\n",
    "\n",
    "\n",
    "* Proponer un modelo que busque relacionar las variables de interés con el desempeño de los estudiantes y concluir acerca de los posibles hallazgos que se podrían reportar para el *stakeholder*.\n",
    "\n",
    "\n",
    "* Generar una herramienta que permita a un usuario interactuar con alguno de los parámetros del análisis realizado de forma relevante en el contexto del problema."
   ]
  },
  {
   "cell_type": "markdown",
   "metadata": {
    "nbgrader": {
     "grade": false,
     "grade_id": "cell-997648f928b84190",
     "locked": true,
     "schema_version": 3,
     "solution": false,
     "task": false
    }
   },
   "source": [
    "## Fase 1: obtener e inspeccionar archivos"
   ]
  },
  {
   "cell_type": "markdown",
   "metadata": {
    "nbgrader": {
     "grade": false,
     "grade_id": "cell-997648f928b84191",
     "locked": true,
     "schema_version": 3,
     "solution": false,
     "task": false
    }
   },
   "source": [
    "En esta fase te harás una idea general del contenido de los datos y generarás un reporte al respecto (ej., imprimiendo mensajes, presentando tablas de resumen, etc.). Además, seleccionarás un segmento de los datos que consideres útil para realizar tu análisis."
   ]
  },
  {
   "cell_type": "markdown",
   "metadata": {
    "nbgrader": {
     "grade": false,
     "grade_id": "cell-997648f928b84192",
     "locked": true,
     "schema_version": 3,
     "solution": false,
     "task": false
    }
   },
   "source": [
    "Pautas generales:\n",
    "\n",
    "* Utilizar una librería especializada para leer los archivos de datos y agregarlos según sea necesario (ej., utilizando los métodos `append` o `concat` si eliges cargarlos utilizando la librería `pandas`).\n",
    "* Inspeccionar el archivo a partir de sus encabezados, columnas y descripciones de las variables según su tipo (ej., numéricas, categóricas).\n",
    "* Declarar una estructura de datos (ej., una lista) para almacenar un subconjunto de variables que puedan ser relevantes para la problemática de interés."
   ]
  },
  {
   "cell_type": "markdown",
   "metadata": {
    "nbgrader": {
     "grade": false,
     "grade_id": "cell-997648f928b84193",
     "locked": true,
     "schema_version": 3,
     "solution": false,
     "task": false
    }
   },
   "source": [
    "Preguntas guía:\n",
    "\n",
    "* ¿Qué dimensiones tienen los datos?\n",
    "* ¿Con cuántos años y periodos de evaluación se cuenta?\n",
    "* ¿Cuáles variables pueden ser de interés para la problemática planteada?\n",
    "* ¿Qué porcentaje de datos faltantes o no válidos hay en las columnas de interés? ¿Qué planteas para manejarlos?"
   ]
  },
  {
   "cell_type": "code",
   "execution_count": 2,
   "metadata": {
    "nbgrader": {
     "grade": true,
     "grade_id": "cell-83d3b414ead0cca9",
     "locked": false,
     "points": 20,
     "schema_version": 3,
     "solution": true,
     "task": false
    }
   },
   "outputs": [],
   "source": [
    "# Implementa tu respuesta en esta celda\n",
    "import pandas as pd \n",
    "import numpy as np\n",
    "from sklearn.model_selection import train_test_split\n",
    "from sklearn.ensemble import RandomForestRegressor\n",
    "from sklearn.metrics import mean_squared_error, r2_score\n",
    "import matplotlib.pyplot as plt\n",
    "\n",
    "archivo_2016_2 = pd.read_excel(\"datos/Resultados_únicos_Saber_11_2016-2.xlsx\")\n",
    "archivo_2016_1 = pd.read_excel(\"datos/Resultados_únicos_Saber_11_2016-1.xlsx\")"
   ]
  },
  {
   "cell_type": "code",
   "execution_count": 3,
   "metadata": {},
   "outputs": [
    {
     "name": "stdout",
     "output_type": "stream",
     "text": [
      "Año evaluado: 2016 \n",
      "Períodos: 2 y 1 \n",
      "Número de filas y columnas:\n",
      "Periodo 2: \n",
      "Filas: 550275 | Columnas: 51\n",
      "Periodo 1: \n",
      "Filas: 13095 | Columnas: 51\n",
      "['PERIODO' 'COLE_AREA_UBICACION' 'COLE_BILINGUE' 'COLE_CALENDARIO'\n",
      " 'COLE_CARACTER' 'COLE_GENERO' 'FAMI_ESTRATOVIVIENDA' 'PUNT_GLOBAL']\n",
      "\n",
      "Número de filas y columnas (depuradas) por periodo:\n",
      "Periodo 1: Filas: 13095 | Columnas: 8\n",
      "Periodo 2: Filas: 550275 | Columnas: 8\n",
      "\n",
      "Número de filas y columnas resultantes de la unión de ambos conjuntos de datos:\n",
      "Calendario AB: Filas: 563370 | Columnas: 8\n",
      "\n",
      "Número de filas y columnas (depuradas) sin valores faltantes:\n",
      "Filas: 563370 | Columnas: 8\n",
      "\n",
      "Número de valores vacíos por columna:\n",
      "PERIODO                     0\n",
      "COLE_AREA_UBICACION         0\n",
      "COLE_BILINGUE           72802\n",
      "COLE_CALENDARIO             0\n",
      "COLE_CARACTER            5282\n",
      "COLE_GENERO                 0\n",
      "FAMI_ESTRATOVIVIENDA     2461\n",
      "PUNT_GLOBAL                 0\n",
      "dtype: int64\n",
      "\n",
      "Número total de valores vacíos: 80545Número total de datos valiosos (no vacíos): 4426415\n",
      "\n",
      "Despues de eliminar valores vacíos, este es el número de filas y columnas resultantes de la depuración:\n",
      "Filas: 487639 | Columnas: 8\n"
     ]
    }
   ],
   "source": [
    "print(\"Año evaluado: 2016 \\nPeríodos: 2 y 1 \\nNúmero de filas y columnas:\")\n",
    "print(f\"Periodo 2: \\nFilas: {archivo_2016_2.shape[0]} | Columnas: {archivo_2016_2.shape[1]}\")\n",
    "print(f\"Periodo 1: \\nFilas: {archivo_2016_1.shape[0]} | Columnas: {archivo_2016_1.shape[1]}\")\n",
    "\n",
    "cols = [0,3,4,5,6,13,38,50]\n",
    "nuevas_cols = np.array(archivo_2016_1.columns)[cols]\n",
    "print(nuevas_cols)\n",
    "\n",
    "archivo_2016_2 = archivo_2016_2[list(nuevas_cols)]\n",
    "archivo_2016_1 = archivo_2016_1[list(nuevas_cols)]\n",
    "\n",
    "print(\"\\nNúmero de filas y columnas (depuradas) por periodo:\")\n",
    "print(f\"Periodo 1: Filas: {archivo_2016_1.shape[0]} | Columnas: {archivo_2016_1.shape[1]}\")\n",
    "print(f\"Periodo 2: Filas: {archivo_2016_2.shape[0]} | Columnas: {archivo_2016_2.shape[1]}\")\n",
    "\n",
    "archivo = pd.concat([archivo_2016_1, archivo_2016_2], axis=0)\n",
    "\n",
    "print(\"\\nNúmero de filas y columnas resultantes de la unión de ambos conjuntos de datos:\")\n",
    "print(f\"Calendario AB: Filas: {archivo.shape[0]} | Columnas: {archivo.shape[1]}\")\n",
    "\n",
    "print(\"\\nNúmero de filas y columnas (depuradas) sin valores faltantes:\")\n",
    "print(f\"Filas: {archivo.shape[0]} | Columnas: {archivo.shape[1]}\")\n",
    "\n",
    "print(\"\\nNúmero de valores vacíos por columna:\")\n",
    "print(archivo.isna().sum())\n",
    "total_vacios = archivo.isna().sum().sum()\n",
    "total_datos_valiosos = archivo.notna().sum().sum()\n",
    "print(\n",
    "    f\"\\nNúmero total de valores vacíos: {total_vacios}\"\n",
    "    f\"Número total de datos valiosos (no vacíos): {total_datos_valiosos}\"\n",
    ")\n",
    "df = archivo.dropna()\n",
    "print(\"\\nDespues de eliminar valores vacíos, este es el número de filas y columnas resultantes de la depuración:\")\n",
    "print(f\"Filas: {df.shape[0]} | Columnas: {df.shape[1]}\")\n"
   ]
  },
  {
   "cell_type": "markdown",
   "metadata": {
    "nbgrader": {
     "grade": false,
     "grade_id": "cell-015824b401dc270e",
     "locked": true,
     "schema_version": 3,
     "solution": false,
     "task": false
    }
   },
   "source": [
    "## Fase 2: identificar características y relaciones en las variables"
   ]
  },
  {
   "cell_type": "markdown",
   "metadata": {
    "nbgrader": {
     "grade": false,
     "grade_id": "cell-015824b401dc270e1",
     "locked": true,
     "schema_version": 3,
     "solution": false,
     "task": false
    }
   },
   "source": [
    "En esta fase realizarás análisis descriptivo para identificar posibles patrones o relaciones entre las variables de interés para la problemática planteada. Además, expondrás estadísticas descriptivas y visualizaciones para concluir al respecto de los patrones y las relaciones identificadas. Finalmente, elegirás el segmento de los datos sobre el cual profundizarás con tu análisis (este puede ser, o no, igual al seleccionado anteriormente)."
   ]
  },
  {
   "cell_type": "markdown",
   "metadata": {
    "nbgrader": {
     "grade": false,
     "grade_id": "cell-015824b401dc270e2",
     "locked": true,
     "schema_version": 3,
     "solution": false,
     "task": false
    }
   },
   "source": [
    "Pautas generales:\n",
    "\n",
    "* Calcular estadísticas descriptivas básicas (por lo menos, media/mediana y varianza/desviación) para cada variable sociodemográfica relevante en el contexto del problema.\n",
    "* Utilizar librerías especializadas (ej., `matplotlib`, `seaborn`, etc.) para inspeccionar visualmente variables de interés. Los métodos `distplot`, `pairplot`, `boxplot`, o `violinplot`, entre otros, pueden ser útiles.\n",
    "* Utilizar el método `groupby` de `pandas`, en conjunto con métodos de visualización, puede proveer evidencia del impacto de las variables sociodemográficas de interés sobre el desempeño de los estudiantes en la prueba."
   ]
  },
  {
   "cell_type": "markdown",
   "metadata": {
    "nbgrader": {
     "grade": false,
     "grade_id": "cell-015824b401dc270e3",
     "locked": true,
     "schema_version": 3,
     "solution": false,
     "task": false
    }
   },
   "source": [
    "Preguntas guía:\n",
    "\n",
    "* ¿Hay patrones de interés en las distribuciones de las variables o en las relaciones entre ellas?\n",
    "* ¿Consideras que existe algún impacto significativo de variables sociodemográficas en los puntajes globales o por área?\n",
    "* ¿Sobre cuáles variables harías un análisis más profundo?"
   ]
  },
  {
   "cell_type": "code",
   "execution_count": 6,
   "metadata": {
    "nbgrader": {
     "grade": true,
     "grade_id": "cell-e13f54c7af1552c9",
     "locked": false,
     "points": 20,
     "schema_version": 3,
     "solution": true,
     "task": false
    }
   },
   "outputs": [
    {
     "name": "stdout",
     "output_type": "stream",
     "text": [
      "Comparaciones estadísticas básicas:\n"
     ]
    },
    {
     "name": "stderr",
     "output_type": "stream",
     "text": [
      "C:\\Users\\User\\AppData\\Local\\Temp\\ipykernel_1244\\3958794902.py:17: FutureWarning: \n",
      "\n",
      "The `ci` parameter is deprecated. Use `errorbar='sd'` for the same effect.\n",
      "\n",
      "  sns.barplot(\n",
      "C:\\Users\\User\\AppData\\Local\\Temp\\ipykernel_1244\\3958794902.py:17: FutureWarning: \n",
      "\n",
      "Passing `palette` without assigning `hue` is deprecated and will be removed in v0.14.0. Assign the `x` variable to `hue` and set `legend=False` for the same effect.\n",
      "\n",
      "  sns.barplot(\n",
      "C:\\Users\\User\\AppData\\Local\\Temp\\ipykernel_1244\\3958794902.py:17: FutureWarning: \n",
      "\n",
      "The `ci` parameter is deprecated. Use `errorbar='sd'` for the same effect.\n",
      "\n",
      "  sns.barplot(\n",
      "C:\\Users\\User\\AppData\\Local\\Temp\\ipykernel_1244\\3958794902.py:17: FutureWarning: \n",
      "\n",
      "Passing `palette` without assigning `hue` is deprecated and will be removed in v0.14.0. Assign the `x` variable to `hue` and set `legend=False` for the same effect.\n",
      "\n",
      "  sns.barplot(\n",
      "C:\\Users\\User\\AppData\\Local\\Temp\\ipykernel_1244\\3958794902.py:17: FutureWarning: \n",
      "\n",
      "The `ci` parameter is deprecated. Use `errorbar='sd'` for the same effect.\n",
      "\n",
      "  sns.barplot(\n",
      "C:\\Users\\User\\AppData\\Local\\Temp\\ipykernel_1244\\3958794902.py:17: FutureWarning: \n",
      "\n",
      "Passing `palette` without assigning `hue` is deprecated and will be removed in v0.14.0. Assign the `x` variable to `hue` and set `legend=False` for the same effect.\n",
      "\n",
      "  sns.barplot(\n",
      "C:\\Users\\User\\AppData\\Local\\Temp\\ipykernel_1244\\3958794902.py:17: FutureWarning: \n",
      "\n",
      "The `ci` parameter is deprecated. Use `errorbar='sd'` for the same effect.\n",
      "\n",
      "  sns.barplot(\n",
      "C:\\Users\\User\\AppData\\Local\\Temp\\ipykernel_1244\\3958794902.py:17: FutureWarning: \n",
      "\n",
      "Passing `palette` without assigning `hue` is deprecated and will be removed in v0.14.0. Assign the `x` variable to `hue` and set `legend=False` for the same effect.\n",
      "\n",
      "  sns.barplot(\n",
      "C:\\Users\\User\\AppData\\Local\\Temp\\ipykernel_1244\\3958794902.py:17: FutureWarning: \n",
      "\n",
      "The `ci` parameter is deprecated. Use `errorbar='sd'` for the same effect.\n",
      "\n",
      "  sns.barplot(\n",
      "C:\\Users\\User\\AppData\\Local\\Temp\\ipykernel_1244\\3958794902.py:17: FutureWarning: \n",
      "\n",
      "Passing `palette` without assigning `hue` is deprecated and will be removed in v0.14.0. Assign the `x` variable to `hue` and set `legend=False` for the same effect.\n",
      "\n",
      "  sns.barplot(\n",
      "C:\\Users\\User\\AppData\\Local\\Temp\\ipykernel_1244\\3958794902.py:17: FutureWarning: \n",
      "\n",
      "The `ci` parameter is deprecated. Use `errorbar='sd'` for the same effect.\n",
      "\n",
      "  sns.barplot(\n",
      "C:\\Users\\User\\AppData\\Local\\Temp\\ipykernel_1244\\3958794902.py:17: FutureWarning: \n",
      "\n",
      "Passing `palette` without assigning `hue` is deprecated and will be removed in v0.14.0. Assign the `x` variable to `hue` and set `legend=False` for the same effect.\n",
      "\n",
      "  sns.barplot(\n",
      "C:\\Users\\User\\AppData\\Local\\Temp\\ipykernel_1244\\3958794902.py:17: FutureWarning: \n",
      "\n",
      "The `ci` parameter is deprecated. Use `errorbar='sd'` for the same effect.\n",
      "\n",
      "  sns.barplot(\n",
      "C:\\Users\\User\\AppData\\Local\\Temp\\ipykernel_1244\\3958794902.py:17: FutureWarning: \n",
      "\n",
      "Passing `palette` without assigning `hue` is deprecated and will be removed in v0.14.0. Assign the `x` variable to `hue` and set `legend=False` for the same effect.\n",
      "\n",
      "  sns.barplot(\n"
     ]
    },
    {
     "data": {
      "image/png": "[encoded data removed]",
      "text/plain": [
       "<Figure size 1400x2000 with 7 Axes>"
      ]
     },
     "metadata": {},
     "output_type": "display_data"
    },
    {
     "name": "stdout",
     "output_type": "stream",
     "text": [
      "\n",
      "Comparaciones entre estratos en FAMI_ESTRATOVIVIENDA:\n",
      "\n",
      "Comparación entre Estrato 4 y Estrato 6:\n",
      "  - T-test: t=-38.76, p=0.0000\n",
      "  - Mann-Whitney U: u=24047625.50, p=0.0000\n",
      "  - Si p < 0.05, hay diferencia estadísticamente significativa\n",
      "\n",
      "Comparación entre Estrato 4 y Estrato 3:\n",
      "  - T-test: t=75.80, p=0.0000\n",
      "  - Mann-Whitney U: u=969028567.00, p=0.0000\n",
      "  - Si p < 0.05, hay diferencia estadísticamente significativa\n",
      "\n",
      "Comparación entre Estrato 4 y Estrato 2:\n",
      "  - T-test: t=128.11, p=0.0000\n",
      "  - Mann-Whitney U: u=2262505307.50, p=0.0000\n",
      "  - Si p < 0.05, hay diferencia estadísticamente significativa\n",
      "\n",
      "Comparación entre Estrato 4 y Estrato 5:\n",
      "  - T-test: t=-21.65, p=0.0000\n",
      "  - Mann-Whitney U: u=52108247.50, p=0.0000\n",
      "  - Si p < 0.05, hay diferencia estadísticamente significativa\n",
      "\n",
      "Comparación entre Estrato 4 y Estrato 1:\n",
      "  - T-test: t=188.85, p=0.0000\n",
      "  - Mann-Whitney U: u=3264004840.50, p=0.0000\n",
      "  - Si p < 0.05, hay diferencia estadísticamente significativa\n",
      "\n",
      "Comparación entre Estrato 6 y Estrato 3:\n",
      "  - T-test: t=80.87, p=0.0000\n",
      "  - Mann-Whitney U: u=285595174.00, p=0.0000\n",
      "  - Si p < 0.05, hay diferencia estadísticamente significativa\n",
      "\n",
      "Comparación entre Estrato 6 y Estrato 2:\n",
      "  - T-test: t=105.89, p=0.0000\n",
      "  - Mann-Whitney U: u=628279235.50, p=0.0000\n",
      "  - Si p < 0.05, hay diferencia estadísticamente significativa\n",
      "\n",
      "Comparación entre Estrato 6 y Estrato 5:\n",
      "  - T-test: t=18.03, p=0.0000\n",
      "  - Mann-Whitney U: u=18394032.00, p=0.0000\n",
      "  - Si p < 0.05, hay diferencia estadísticamente significativa\n",
      "\n",
      "Comparación entre Estrato 6 y Estrato 1:\n",
      "  - T-test: t=135.28, p=0.0000\n",
      "  - Mann-Whitney U: u=858010798.00, p=0.0000\n",
      "  - Si p < 0.05, hay diferencia estadísticamente significativa\n",
      "\n",
      "Comparación entre Estrato 3 y Estrato 2:\n",
      "  - T-test: t=92.92, p=0.0000\n",
      "  - Mann-Whitney U: u=8103811941.00, p=0.0000\n",
      "  - Si p < 0.05, hay diferencia estadísticamente significativa\n",
      "\n",
      "Comparación entre Estrato 3 y Estrato 5:\n",
      "  - T-test: t=-72.98, p=0.0000\n",
      "  - Mann-Whitney U: u=142643258.50, p=0.0000\n",
      "  - Si p < 0.05, hay diferencia estadísticamente significativa\n",
      "\n",
      "Comparación entre Estrato 3 y Estrato 1:\n",
      "  - T-test: t=213.93, p=0.0000\n",
      "  - Mann-Whitney U: u=12642294310.00, p=0.0000\n",
      "  - Si p < 0.05, hay diferencia estadísticamente significativa\n",
      "\n",
      "Comparación entre Estrato 2 y Estrato 5:\n",
      "  - T-test: t=-104.63, p=0.0000\n",
      "  - Mann-Whitney U: u=200782778.50, p=0.0000\n",
      "  - Si p < 0.05, hay diferencia estadísticamente significativa\n",
      "\n",
      "Comparación entre Estrato 2 y Estrato 1:\n",
      "  - T-test: t=151.64, p=0.0000\n",
      "  - Mann-Whitney U: u=22494535723.50, p=0.0000\n",
      "  - Si p < 0.05, hay diferencia estadísticamente significativa\n",
      "\n",
      "Comparación entre Estrato 5 y Estrato 1:\n",
      "  - T-test: t=141.76, p=0.0000\n",
      "  - Mann-Whitney U: u=1352682617.50, p=0.0000\n",
      "  - Si p < 0.05, hay diferencia estadísticamente significativa\n"
     ]
    }
   ],
   "source": [
    "# Implementa tu respuesta en esta celda\n",
    "import seaborn as sns\n",
    "from scipy import stats\n",
    "import math\n",
    "print(\"Comparaciones estadísticas básicas:\")\n",
    "\n",
    "categ_cols = [c for c in df.columns if c != 'PUNT_GLOBAL']\n",
    "\n",
    "n = len(categ_cols)\n",
    "ncols = 2\n",
    "nrows = math.ceil(n / ncols)\n",
    "\n",
    "fig, axes = plt.subplots(nrows=nrows, ncols=ncols, figsize=(14, 5*nrows))\n",
    "axes = axes.flatten()\n",
    "\n",
    "for i, col in enumerate(categ_cols):\n",
    "    sns.barplot(\n",
    "        x=col,\n",
    "        y='PUNT_GLOBAL',\n",
    "        data=df,\n",
    "        ci='sd',\n",
    "        palette='Set2',\n",
    "        ax=axes[i]\n",
    "    )\n",
    "    axes[i].set_title(f'Promedio de PUNT_GLOBAL según {col}')\n",
    "    axes[i].set_xlabel(col)\n",
    "    axes[i].set_ylabel('PUNT_GLOBAL promedio')\n",
    "    axes[i].tick_params(axis='x', rotation=45)\n",
    "\n",
    "for j in range(i+1, len(axes)):\n",
    "    fig.delaxes(axes[j])\n",
    "\n",
    "plt.tight_layout()\n",
    "plt.show()\n",
    "\n",
    "print(\"\\nComparaciones entre estratos en FAMI_ESTRATOVIVIENDA:\")\n",
    "\n",
    "estratos = df['FAMI_ESTRATOVIVIENDA'].unique()\n",
    "\n",
    "for i in range(len(estratos)):\n",
    "    for j in range(i+1, len(estratos)):\n",
    "        group1 = df[df['FAMI_ESTRATOVIVIENDA'] == estratos[i]]['PUNT_GLOBAL']\n",
    "        group2 = df[df['FAMI_ESTRATOVIVIENDA'] == estratos[j]]['PUNT_GLOBAL']\n",
    "        t_stat, p_val = stats.ttest_ind(group1, group2, equal_var=False)\n",
    "        u_stat, p_val_u = stats.mannwhitneyu(group1, group2, alternative='two-sided')\n",
    "        print(f\"\\nComparación entre {estratos[i]} y {estratos[j]}:\")\n",
    "        print(f\"  - T-test: t={t_stat:.2f}, p={p_val:.4f}\")\n",
    "        print(f\"  - Mann-Whitney U: u={u_stat:.2f}, p={p_val_u:.4f}\")\n",
    "        print(\"  - Si p < 0.05, hay diferencia estadísticamente significativa\")\n"
   ]
  },
  {
   "cell_type": "markdown",
   "metadata": {
    "nbgrader": {
     "grade": false,
     "grade_id": "cell-216057b23d3cc36d1",
     "locked": true,
     "schema_version": 3,
     "solution": false,
     "task": false
    }
   },
   "source": [
    "## Fase 3: abordar relación variables-desempeño a través de un modelo"
   ]
  },
  {
   "cell_type": "markdown",
   "metadata": {
    "nbgrader": {
     "grade": false,
     "grade_id": "cell-216057b23d3cc36d2",
     "locked": true,
     "schema_version": 3,
     "solution": false,
     "task": false
    }
   },
   "source": [
    "En esta fase propondrás, implementarás y reportarás el desempeño de uno o más modelos (al menos uno predictivo) que busquen explicar las relaciones entre factores sociodemográficos y el desempeño en la prueba. Además, concluirás con respecto a la validez de al menos un modelo y los posibles hallazgos que se podrían reportar para el *stakeholder*."
   ]
  },
  {
   "cell_type": "markdown",
   "metadata": {
    "nbgrader": {
     "grade": false,
     "grade_id": "cell-216057b23d3cc36d3",
     "locked": true,
     "schema_version": 3,
     "solution": false,
     "task": false
    }
   },
   "source": [
    "Pautas generales:\n",
    "\n",
    "* Seleccionar variables y proponer modelos acordes a estas y al contexto del problema.\n",
    "* Utilizar librerías especializadas (ej., `statsmodels`, `sklearn`, etc.) para indagar sobre los aspectos que contribuyen al éxito de los estudiantes. Los módulos correspondientes a regresión lineal y regresión logística pueden ser útiles.\n",
    "* Asegurar el cumplimiento de los supuestos y buenas prácticas de cada modelo.\n",
    "* Utilizar las métricas de evaluación de desempeño (disponibles en las librerías especilizadas), para concluir sobre la validez de los modelos propuestos."
   ]
  },
  {
   "cell_type": "markdown",
   "metadata": {
    "nbgrader": {
     "grade": false,
     "grade_id": "cell-216057b23d3cc36d4",
     "locked": true,
     "schema_version": 3,
     "solution": false,
     "task": false
    }
   },
   "source": [
    "Preguntas guía:\n",
    "\n",
    "* ¿Existe algún sub-conjunto de variables socio-demográficas que explique razonablemente bien el desempeño de los estudiantes en la prueba?"
   ]
  },
  {
   "cell_type": "code",
   "execution_count": 7,
   "metadata": {
    "collapsed": true,
    "nbgrader": {
     "grade": true,
     "grade_id": "cell-94b22dd2cafa56a2",
     "locked": false,
     "points": 30,
     "schema_version": 3,
     "solution": true,
     "task": false
    }
   },
   "outputs": [],
   "source": [
    "# Implementa tu respuesta en esta celda\n",
    "y = df['PUNT_GLOBAL'].astype(float) \n",
    "X = df.drop(columns=['PUNT_GLOBAL'])\n",
    "X = pd.get_dummies(X, drop_first=True)"
   ]
  },
  {
   "cell_type": "code",
   "execution_count": 8,
   "metadata": {},
   "outputs": [
    {
     "name": "stdout",
     "output_type": "stream",
     "text": [
      "Dimensiones de X: (487639, 15)\n",
      "Dimensiones de y: (487639,)\n"
     ]
    }
   ],
   "source": [
    "print(\"Dimensiones de X:\", X.shape)\n",
    "print(\"Dimensiones de y:\", y.shape)\n",
    "X_train, X_test, y_train, y_test = train_test_split(X, y, test_size=0.2, random_state=42)\n",
    "model = RandomForestRegressor(n_estimators=100, random_state=42)"
   ]
  },
  {
   "cell_type": "code",
   "execution_count": 9,
   "metadata": {},
   "outputs": [],
   "source": [
    "model = RandomForestRegressor(n_estimators=100, random_state=42)"
   ]
  },
  {
   "cell_type": "code",
   "execution_count": 10,
   "metadata": {},
   "outputs": [
    {
     "name": "stdout",
     "output_type": "stream",
     "text": [
      "=== Desempeño del modelo ===\n",
      "RMSE: 43.19\n",
      "R²: 0.212\n"
     ]
    }
   ],
   "source": [
    "model.fit(X_train, y_train)\n",
    "y_pred = model.predict(X_test)\n",
    "mse = mean_squared_error(y_test, y_pred)\n",
    "rmse = np.sqrt(mse)\n",
    "r2 = r2_score(y_test, y_pred)\n",
    "print(\"=== Desempeño del modelo ===\")\n",
    "print(f\"RMSE: {rmse:.2f}\")\n",
    "print(f\"R²: {r2:.3f}\")"
   ]
  },
  {
   "cell_type": "code",
   "execution_count": 11,
   "metadata": {},
   "outputs": [
    {
     "name": "stdout",
     "output_type": "stream",
     "text": [
      "\n",
      "Top 10 variables más importantes:\n",
      "PERIODO                            0.203209\n",
      "FAMI_ESTRATOVIVIENDA_Estrato 4     0.182286\n",
      "FAMI_ESTRATOVIVIENDA_Estrato 3     0.180853\n",
      "FAMI_ESTRATOVIVIENDA_Estrato 2     0.139833\n",
      "FAMI_ESTRATOVIVIENDA_Estrato 5     0.105520\n",
      "FAMI_ESTRATOVIVIENDA_Estrato 6     0.052772\n",
      "COLE_GENERO_MIXTO                  0.034259\n",
      "COLE_BILINGUE_S                    0.030886\n",
      "COLE_AREA_UBICACION_URBANO         0.027533\n",
      "COLE_CARACTER_TÉCNICO/ACADÉMICO    0.013459\n",
      "dtype: float64\n"
     ]
    }
   ],
   "source": [
    "importances = pd.Series(\n",
    "    model.feature_importances_,\n",
    "    index=X.columns\n",
    ").sort_values(ascending=False)\n",
    "\n",
    "print(\"\\nTop 10 variables más importantes:\")\n",
    "print(importances.head(10))"
   ]
  },
  {
   "cell_type": "markdown",
   "metadata": {
    "nbgrader": {
     "grade": false,
     "grade_id": "cell-48c276616fb862c5",
     "locked": true,
     "schema_version": 3,
     "solution": false,
     "task": false
    }
   },
   "source": [
    "## Fase 4"
   ]
  },
  {
   "cell_type": "markdown",
   "metadata": {
    "nbgrader": {
     "grade": false,
     "grade_id": "cell-eb30850cd7109d78",
     "locked": true,
     "schema_version": 3,
     "solution": false,
     "task": false
    }
   },
   "source": [
    "Deberás elegir y realizar una de las dos alternativas que se encuentran a continuación."
   ]
  },
  {
   "cell_type": "markdown",
   "metadata": {
    "nbgrader": {
     "grade": false,
     "grade_id": "cell-378e2b071d246af8",
     "locked": true,
     "schema_version": 3,
     "solution": false,
     "task": false
    }
   },
   "source": [
    "### Alternativa 1: desarrollar una herramienta interactiva de análisis"
   ]
  },
  {
   "cell_type": "markdown",
   "metadata": {
    "nbgrader": {
     "grade": false,
     "grade_id": "cell-378e2b071d246af9",
     "locked": true,
     "schema_version": 3,
     "solution": false,
     "task": false
    }
   },
   "source": [
    "En esta fase desarrollarás, a partir de alguno de los análisis realizados, una herramienta interactiva que sea relevante en el contexto del problema, acompañada de las instrucciones necesarias para que un usuario la pueda utilizar."
   ]
  },
  {
   "cell_type": "markdown",
   "metadata": {
    "nbgrader": {
     "grade": false,
     "grade_id": "cell-378e2b071d246af10",
     "locked": true,
     "schema_version": 3,
     "solution": false,
     "task": false
    }
   },
   "source": [
    "Pautas generales:\n",
    "\n",
    "* Seleccionar uno de los análisis previos que pueda verse enriquecido con alguna característica de interactividad.\n",
    "* Seleccionar el/los parámetro(s) que el usuario podrá cambiar.\n",
    "* Desarrollar las funciones que se deben ejecutar con cada acción del usuario.\n",
    "* Utilizar una librería especializada (ej., `ipywidgets`, `panel`, etc.) para implementar la herramienta."
   ]
  },
  {
   "cell_type": "markdown",
   "metadata": {
    "nbgrader": {
     "grade": false,
     "grade_id": "cell-378e2b071d246af11",
     "locked": true,
     "schema_version": 3,
     "solution": false,
     "task": false
    }
   },
   "source": [
    "Preguntas guía:\n",
    "\n",
    "* ¿Cuál o cuáles preguntas podrá hacerle el usuario a la herramienta y cómo aporta la respuesta al análisis?\n",
    "* ¿Qué aprendizajes clave puede explorar u obtener el usuario con esta herramienta?"
   ]
  },
  {
   "cell_type": "code",
   "execution_count": null,
   "metadata": {
    "nbgrader": {
     "grade": true,
     "grade_id": "cell-6b287262b7ce28bb",
     "locked": false,
     "points": 30,
     "schema_version": 3,
     "solution": true,
     "task": false
    }
   },
   "outputs": [],
   "source": [
    "# Implementa tu respuesta en esta celda}\n"
   ]
  },
  {
   "cell_type": "markdown",
   "metadata": {
    "nbgrader": {
     "grade": false,
     "grade_id": "cell-c8a33682f37a6fa7",
     "locked": true,
     "schema_version": 3,
     "solution": false,
     "task": false
    }
   },
   "source": [
    "### Alternativa 2: registrar en bases de datos relacionales con PySpark"
   ]
  },
  {
   "cell_type": "markdown",
   "metadata": {
    "nbgrader": {
     "grade": false,
     "grade_id": "cell-c8a33682f37a6fa8",
     "locked": true,
     "schema_version": 3,
     "solution": false,
     "task": false
    }
   },
   "source": [
    "En esta fase desarrollarás, a partir de alguno de los análisis realizados, un _script_ que sea relevante en el contexto del problema, acompañado de las instrucciones necesarias para que un usuario lo pueda ejecutar."
   ]
  },
  {
   "cell_type": "markdown",
   "metadata": {
    "nbgrader": {
     "grade": false,
     "grade_id": "cell-c8a33682f37a6fa9",
     "locked": true,
     "schema_version": 3,
     "solution": false,
     "task": false
    }
   },
   "source": [
    "Pautas generales:\n",
    "\n",
    "* Cargar en una base de datos relacional (tipo SQL) el segmento de los datos sobre el cual profundizaste en tu anális, utilizando una tabla distinta para cada categoría de campos. Por ejemplo, una categoría puedes ser información del colegio; en cuyo caso, una tabla debería contener un registro único para cada colegio y todos los campos asociados.\n",
    "\n",
    "* Los campos, a excepción de los identificadores, deben existir en un única tabla.\n",
    "\n",
    "* Cada registro debe existir una única vez en su respectiva tabla.\n",
    "\n",
    "* Cada registro debe tener un identificador único en su tabla, el cual establece una relación entre tablas.\n",
    "\n",
    "* Seleccionar uno de los modelos predictivos implementados.\n",
    "\n",
    "* Crear en la base de datos relacional una tabla que contenga únicamente los identificadores del registro y la predicción de la variable de respuesta hecha por el modelo.\n",
    "\n",
    "* Desarrollar _queries_ de SQL según las siguientes indicaciones y concluir acerca de los resultados:\n",
    "    * Un _query_ que seleccione todos registros y los agregue en una única tabla. Para esto debes relacionar las tablas por su identificador, utilizando el método `JOIN`.\n",
    "    * Un _query_ que contenga el puntaje promedio de los estudiantes, agrupado por año y por colegio.\n",
    "    * Distintos _queries_ que calculen medidas de error de predicción del modelo a partir de los datos reales y las predicciones respectivas. Debes reportar el error para cada registro, el error total de los registros de entrenamiento y el error total de los registros de prueba.\n",
    "    * Haz dos _queries_ adicionales que resulten interesantes."
   ]
  },
  {
   "cell_type": "markdown",
   "metadata": {
    "nbgrader": {
     "grade": false,
     "grade_id": "cell-c8a33682f37a6fa10",
     "locked": true,
     "schema_version": 3,
     "solution": false,
     "task": false
    }
   },
   "source": [
    "Preguntas guía:\n",
    "\n",
    "* ¿Cómo aporta la segmentación de los datos en categorías de campos al manejo de los datos?\n",
    "* ¿Qué filtros y agrupaciones podemos aplicar sobre los datos con el fin de obtener información relevante?"
   ]
  },
  {
   "cell_type": "code",
   "execution_count": null,
   "metadata": {
    "nbgrader": {
     "grade": true,
     "grade_id": "cell-29052f96082e3438",
     "locked": false,
     "points": 0,
     "schema_version": 3,
     "solution": true,
     "task": false
    }
   },
   "outputs": [],
   "source": [
    "# Implementa tu respuesta en esta celda\n"
   ]
  },
  {
   "cell_type": "markdown",
   "metadata": {
    "nbgrader": {
     "grade": false,
     "grade_id": "cell-32cfb4282f725e3c",
     "locked": true,
     "schema_version": 3,
     "solution": false,
     "task": false
    }
   },
   "source": [
    "## Referencias"
   ]
  },
  {
   "cell_type": "markdown",
   "metadata": {
    "nbgrader": {
     "grade": false,
     "grade_id": "cell-32cfb4282f725e3c1",
     "locked": true,
     "schema_version": 3,
     "solution": false,
     "task": false
    }
   },
   "source": [
    "*  J. VanderPlas (2016) *Python Data Science Handbook: Essential Tools for Working with Data* O'Reilly Media, Inc.\n",
    "*  scikit-learn developers . (2020). Demo of DBSCAN clustering algorithm. 11 Diciembre 2020, de scikit-learn <br> https://scikit-learn.org/stable/auto_examples/cluster/plot_dbscan.html#sphx-glr-auto-examples-cluster-plot-dbscan-py"
   ]
  },
  {
   "cell_type": "markdown",
   "metadata": {
    "nbgrader": {
     "grade": false,
     "grade_id": "cell-32cfb4282f725e3c2",
     "locked": true,
     "schema_version": 3,
     "solution": false,
     "task": false
    }
   },
   "source": [
    "## Créditos"
   ]
  },
  {
   "cell_type": "markdown",
   "metadata": {
    "nbgrader": {
     "grade": false,
     "grade_id": "cell-32cfb4282f725e3c3",
     "locked": true,
     "schema_version": 3,
     "solution": false,
     "task": false
    }
   },
   "source": [
    "__Autores__: Camilo Hernando Gómez Castro, Alejandro Mantilla Redondo, Jose Fernando Barrera de Plaza, Diego Alejandro Cely Gómez.\n",
    "\n",
    "__Fecha última actualización__: 29/09/2022"
   ]
  }
 ],
 "metadata": {
  "celltoolbar": "Create Assignment",
  "kernelspec": {
   "display_name": "Python 3",
   "language": "python",
   "name": "python3"
  },
  "language_info": {
   "codemirror_mode": {
    "name": "ipython",
    "version": 3
   },
   "file_extension": ".py",
   "mimetype": "text/x-python",
   "name": "python",
   "nbconvert_exporter": "python",
   "pygments_lexer": "ipython3",
   "version": "3.10.11"
  }
 },
 "nbformat": 4,
 "nbformat_minor": 2
}
